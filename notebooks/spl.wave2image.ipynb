{
 "cells": [
  {
   "cell_type": "code",
   "execution_count": 16,
   "id": "ebba5a05",
   "metadata": {},
   "outputs": [],
   "source": [
    "# import libraries\n",
    "import os\n",
    "import librosa as li\n",
    "import numpy as np\n",
    "import matplotlib.pyplot as plt"
   ]
  },
  {
   "cell_type": "code",
   "execution_count": 14,
   "id": "3023dd2c",
   "metadata": {},
   "outputs": [
    {
     "name": "stdout",
     "output_type": "stream",
     "text": [
      "['Actor_01', 'Actor_02', 'Actor_03', 'Actor_04', 'Actor_05', 'Actor_06', 'Actor_07', 'Actor_08', 'Actor_09', 'Actor_10']\n"
     ]
    }
   ],
   "source": [
    "base_dir = \"/home/gaspar/code/eloisedupenhoat/speech_emotion_recognition/raw_data\"\n",
    "\n",
    "# Vizualize all directories in raw_data\n",
    "print(sorted(os.listdir(base_dir))[:10])"
   ]
  },
  {
   "cell_type": "code",
   "execution_count": 36,
   "id": "9abc1ca9",
   "metadata": {},
   "outputs": [
    {
     "name": "stdout",
     "output_type": "stream",
     "text": [
      "['/home/gaspar/code/eloisedupenhoat/speech_emotion_recognition/raw_data/Actor_01/03-01-01-01-01-01-01.wav', '/home/gaspar/code/eloisedupenhoat/speech_emotion_recognition/raw_data/Actor_01/03-01-01-01-01-02-01.wav', '/home/gaspar/code/eloisedupenhoat/speech_emotion_recognition/raw_data/Actor_01/03-01-01-01-02-01-01.wav', '/home/gaspar/code/eloisedupenhoat/speech_emotion_recognition/raw_data/Actor_01/03-01-01-01-02-02-01.wav', '/home/gaspar/code/eloisedupenhoat/speech_emotion_recognition/raw_data/Actor_01/03-01-02-01-01-01-01.wav', '/home/gaspar/code/eloisedupenhoat/speech_emotion_recognition/raw_data/Actor_01/03-01-02-01-01-02-01.wav', '/home/gaspar/code/eloisedupenhoat/speech_emotion_recognition/raw_data/Actor_01/03-01-02-01-02-01-01.wav', '/home/gaspar/code/eloisedupenhoat/speech_emotion_recognition/raw_data/Actor_01/03-01-02-01-02-02-01.wav', '/home/gaspar/code/eloisedupenhoat/speech_emotion_recognition/raw_data/Actor_01/03-01-02-02-01-01-01.wav', '/home/gaspar/code/eloisedupenhoat/speech_emotion_recognition/raw_data/Actor_01/03-01-02-02-01-02-01.wav']\n"
     ]
    }
   ],
   "source": [
    "# Collect all paths of .wav files in raw_data\n",
    "all_paths = []\n",
    "for dirpath, dirnames, files in os.walk(base_dir):\n",
    "    dirnames.sort()\n",
    "    for file in sorted(files):\n",
    "        if file.endswith('.wav'):\n",
    "            all_paths.append(f\"{dirpath}/{file}\")\n",
    "print(sorted(all_paths[:10]))"
   ]
  },
  {
   "cell_type": "code",
   "execution_count": 41,
   "id": "d45b33d0",
   "metadata": {},
   "outputs": [],
   "source": [
    "for path in all_paths[:10]:\n",
    "\n",
    "    # load the audio into librosa\n",
    "\t# y is a NumPy array witht he waveform data\n",
    "    # sr is the sample rate (16khz)\n",
    "    y, sr = li.load(path, sr=16000)\n",
    "\n",
    "    # scales the waveform so the maximum value is 1\n",
    "    y = y / np.abs(y).max()\n",
    "\n",
    "    # remove silence\n",
    "    # silence is defined by a decibel threshold (tob_db)\n",
    "    # default should be around 60 db\n",
    "    y, _ = li.effects.trim(y)\n",
    "\n",
    "    # compute the mel spectogram\n",
    "    # it's a 2d array (rows = frequency ; columns = time ; values = intensity (brightness))\n",
    "    S = li.feature.melspectrogram(y=y, sr=sr)\n",
    "\n",
    "    # convert the spectogram from raw energy (power) into decibel scale (log scale)\n",
    "    S_dB = li.power_to_db(S, ref=np.max)\n",
    "\n",
    "    # define image_data file path (the file where we save the images)\n",
    "    image_path = \"/home/gaspar/code/eloisedupenhoat/speech_emotion_recognition/image_data\"\n",
    "\n",
    "    # convert the standardized spectogram into an image file & save it\n",
    "    image_path = os.path.join(image_path, os.path.basename(path).replace(\".wav\", \".jpg\"))\n",
    "\n",
    "    plt.axis('off')\n",
    "    plt.imshow(S_dB, aspect='auto', cmap='magma', origin='lower')\n",
    "    plt.savefig(image_path, bbox_inches='tight', pad_inches=0)\n",
    "    plt.close()"
   ]
  }
 ],
 "metadata": {
  "kernelspec": {
   "display_name": "speech_emotion_recognition",
   "language": "python",
   "name": "python3"
  },
  "language_info": {
   "codemirror_mode": {
    "name": "ipython",
    "version": 3
   },
   "file_extension": ".py",
   "mimetype": "text/x-python",
   "name": "python",
   "nbconvert_exporter": "python",
   "pygments_lexer": "ipython3",
   "version": "3.12.9"
  }
 },
 "nbformat": 4,
 "nbformat_minor": 5
}
