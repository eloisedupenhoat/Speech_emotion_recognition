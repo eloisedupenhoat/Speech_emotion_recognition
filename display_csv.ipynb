{
 "cells": [
  {
   "cell_type": "code",
   "execution_count": null,
   "id": "a1687b4d",
   "metadata": {},
   "outputs": [],
   "source": [
    "# General libraries\n",
    "import numpy as np\n",
    "import pandas as pd\n",
    "import matplotlib.pyplot as plt\n",
    "\n",
    "# Specific to this notebook\n",
    "# 1.1\n",
    "import os\n",
    "# 1.2\n",
    "import librosa as li\n",
    "import wave"
   ]
  },
  {
   "cell_type": "markdown",
   "id": "a7a381c0",
   "metadata": {},
   "source": [
    "# 1. Preprocessing"
   ]
  },
  {
   "cell_type": "markdown",
   "id": "d251226d",
   "metadata": {},
   "source": [
    "## 1.1 Create df and export it as CSV file"
   ]
  },
  {
   "cell_type": "code",
   "execution_count": 4,
   "id": "ada7d703",
   "metadata": {},
   "outputs": [
    {
     "name": "stdout",
     "output_type": "stream",
     "text": [
      "                   Filename\n",
      "0  03-01-05-02-01-01-04.wav\n",
      "1  03-01-02-01-01-02-04.wav\n"
     ]
    }
   ],
   "source": [
    "# Créer le dataframe initial listant l'ensemble des fichiers audios de la BDD\n",
    "\n",
    "base_dir = 'raw_data'\n",
    "all_files = []\n",
    "\n",
    "for dirpath, dirnames, files in os.walk(base_dir):\n",
    "    for file in files:\n",
    "        if file.endswith('.wav'):\n",
    "            all_files.append(file)\n",
    "\n",
    "df = pd.DataFrame(all_files, columns=['Filename'])\n",
    "print(df.head(2))"
   ]
  },
  {
   "cell_type": "code",
   "execution_count": 5,
   "id": "d43ba8d5",
   "metadata": {},
   "outputs": [],
   "source": [
    "# Compléter le df avec les features inscrites dans le nom des fichiers\n",
    "\n",
    "# 1. Création d'un df_features contenant les features en colonnes\n",
    "df_features = df['Filename'].str\n",
    "df_features = df_features.replace('.wav', '')\n",
    "df_features = df_features.str.split('-', expand=True)\n",
    "\n",
    "# 2. Ajout des titres de colonnes\n",
    "df_features.columns = list(['Modality','Vocal_channel','Emotion','Intensity','Statement','Repetition','Actor'])"
   ]
  },
  {
   "cell_type": "code",
   "execution_count": 6,
   "id": "0ea6a803",
   "metadata": {},
   "outputs": [],
   "source": [
    "# 3. Conversion des valeurs (str) en nb (int)\n",
    "df_features = df_features[df_features.columns[1:]].astype(int)"
   ]
  },
  {
   "cell_type": "code",
   "execution_count": 7,
   "id": "53fc614e",
   "metadata": {},
   "outputs": [],
   "source": [
    "# 4. Ajout d'une colonne 'Gender' (1=Woman) (+ une colonne 'Output')\n",
    "df_features['Gender'] = df_features['Actor'].apply(lambda x: 1 if x%2==0 else 0)\n",
    "#df_features['Output'] = df_features.apply(lambda row: [row['Gender'], row['Emotion']], axis=1)"
   ]
  },
  {
   "cell_type": "code",
   "execution_count": 8,
   "id": "4fd11e27",
   "metadata": {},
   "outputs": [],
   "source": [
    "# 5. Concaténation de df et df_features\n",
    "df = pd.concat([df, df_features], axis=1)"
   ]
  },
  {
   "cell_type": "code",
   "execution_count": 9,
   "id": "c2896f78",
   "metadata": {},
   "outputs": [
    {
     "data": {
      "text/html": [
       "<div>\n",
       "<style scoped>\n",
       "    .dataframe tbody tr th:only-of-type {\n",
       "        vertical-align: middle;\n",
       "    }\n",
       "\n",
       "    .dataframe tbody tr th {\n",
       "        vertical-align: top;\n",
       "    }\n",
       "\n",
       "    .dataframe thead th {\n",
       "        text-align: right;\n",
       "    }\n",
       "</style>\n",
       "<table border=\"1\" class=\"dataframe\">\n",
       "  <thead>\n",
       "    <tr style=\"text-align: right;\">\n",
       "      <th></th>\n",
       "      <th>Filename</th>\n",
       "      <th>Vocal_channel</th>\n",
       "      <th>Emotion</th>\n",
       "      <th>Intensity</th>\n",
       "      <th>Statement</th>\n",
       "      <th>Repetition</th>\n",
       "      <th>Actor</th>\n",
       "      <th>Gender</th>\n",
       "    </tr>\n",
       "  </thead>\n",
       "  <tbody>\n",
       "    <tr>\n",
       "      <th>0</th>\n",
       "      <td>03-01-05-02-01-01-04.wav</td>\n",
       "      <td>1</td>\n",
       "      <td>5</td>\n",
       "      <td>2</td>\n",
       "      <td>1</td>\n",
       "      <td>1</td>\n",
       "      <td>4</td>\n",
       "      <td>1</td>\n",
       "    </tr>\n",
       "    <tr>\n",
       "      <th>1</th>\n",
       "      <td>03-01-02-01-01-02-04.wav</td>\n",
       "      <td>1</td>\n",
       "      <td>2</td>\n",
       "      <td>1</td>\n",
       "      <td>1</td>\n",
       "      <td>2</td>\n",
       "      <td>4</td>\n",
       "      <td>1</td>\n",
       "    </tr>\n",
       "    <tr>\n",
       "      <th>2</th>\n",
       "      <td>03-01-08-01-01-01-04.wav</td>\n",
       "      <td>1</td>\n",
       "      <td>8</td>\n",
       "      <td>1</td>\n",
       "      <td>1</td>\n",
       "      <td>1</td>\n",
       "      <td>4</td>\n",
       "      <td>1</td>\n",
       "    </tr>\n",
       "  </tbody>\n",
       "</table>\n",
       "</div>"
      ],
      "text/plain": [
       "                   Filename  Vocal_channel  Emotion  Intensity  Statement  \\\n",
       "0  03-01-05-02-01-01-04.wav              1        5          2          1   \n",
       "1  03-01-02-01-01-02-04.wav              1        2          1          1   \n",
       "2  03-01-08-01-01-01-04.wav              1        8          1          1   \n",
       "\n",
       "   Repetition  Actor  Gender  \n",
       "0           1      4       1  \n",
       "1           2      4       1  \n",
       "2           1      4       1  "
      ]
     },
     "execution_count": 9,
     "metadata": {},
     "output_type": "execute_result"
    }
   ],
   "source": [
    "df.head(3)"
   ]
  },
  {
   "cell_type": "code",
   "execution_count": 10,
   "id": "07e475b5",
   "metadata": {},
   "outputs": [],
   "source": [
    "# Export as csv\n",
    "#df.to_csv('all_files.csv', index=False)"
   ]
  },
  {
   "cell_type": "markdown",
   "id": "fd637785",
   "metadata": {},
   "source": [
    "## 1.2 Convert .wav in image via spectrogram"
   ]
  },
  {
   "cell_type": "code",
   "execution_count": null,
   "id": "27afe711",
   "metadata": {},
   "outputs": [
    {
     "name": "stdout",
     "output_type": "stream",
     "text": [
      "Sampling frequency: 48000\n"
     ]
    }
   ],
   "source": [
    "# Understandig the frequency of 1 audio file (before using rs with librosa)\n",
    "one_path_file = 'raw_data/Actor_01/03-01-01-01-01-01-01.wav'\n",
    "with wave.open(one_path_file, 'rb') as wav_file:\n",
    "    print(\"Sampling frequency:\", wav_file.getframerate())"
   ]
  },
  {
   "cell_type": "code",
   "execution_count": 58,
   "id": "29499ee8",
   "metadata": {},
   "outputs": [
    {
     "name": "stdout",
     "output_type": "stream",
     "text": [
      "['Actor_01', 'Actor_02', 'Actor_03', 'Actor_04', 'Actor_05', 'Actor_06']\n",
      "\n",
      "['raw_data/Actor_04/03-01-02-01-01-02-04.wav', 'raw_data/Actor_04/03-01-05-02-01-01-04.wav']\n"
     ]
    }
   ],
   "source": [
    "# Vizualize all directories in raw_data\n",
    "print(sorted(os.listdir(base_dir))[:6])\n",
    "print()\n",
    "\n",
    "# Collect all paths of .wav files in raw_data\n",
    "all_paths = []\n",
    "for dirpath, dirnames, files in os.walk(base_dir):\n",
    "    for file in files:\n",
    "        if file.endswith('.wav'):\n",
    "            all_paths.append(f\"{dirpath}/{file}\")\n",
    "print(sorted(all_paths[:2]))"
   ]
  },
  {
   "cell_type": "code",
   "execution_count": 65,
   "id": "5cfd1e91",
   "metadata": {},
   "outputs": [
    {
     "data": {
      "text/plain": [
       "'raw_data/Actor_01/03-01-01-01-01-01-01.jpg'"
      ]
     },
     "execution_count": 65,
     "metadata": {},
     "output_type": "execute_result"
    }
   ],
   "source": [
    "# Create the spectograms (without silences)\n",
    "\n",
    "# 1. Load the audio into librosa\n",
    "\"\"\" y is a NumPy array witht he waveform data\n",
    "sr is the sample rate (16khz)\"\"\"\n",
    "y, sr = li.load(one_path_file, sr=16000)\n",
    "\n",
    "# 2.1 Scale the waveform so that the maximum value is 1\n",
    "y = y / np.abs(y).max()\n",
    "\n",
    " # 2.2 Remove silence\n",
    "y, _ = li.effects.trim(y)\n",
    "\n",
    "# 3. Compute the mel spectogram\n",
    "# it's a 2d array (rows = frequency ; columns = time ; values = intensity (brightness))\n",
    "S = li.feature.melspectrogram(y=y, sr=sr)\n",
    "\n",
    "# 4. Convert the spectogram into decibel scale (log scale)\n",
    "S_dB = li.power_to_db(S, ref=np.max)\n",
    "\n",
    "# 4. Create image path\n",
    "image_path = one_path_file.replace('.wav', '.jpg')\n",
    "image_path"
   ]
  },
  {
   "cell_type": "code",
   "execution_count": 67,
   "id": "0de16d0f",
   "metadata": {},
   "outputs": [
    {
     "name": "stdout",
     "output_type": "stream",
     "text": [
      "Image sauvegardée à : raw_data/Actor_01/03-01-01-01-01-01-01.jpg\n"
     ]
    }
   ],
   "source": [
    "# 5. Afficher et sauvegarder l’image\n",
    "plt.figure(figsize=(4, 4))\n",
    "li.display.specshow(S_dB, sr=sr, cmap='magma', x_axis=None, y_axis=None)\n",
    "plt.axis('off')  # Pas d'axes\n",
    "plt.tight_layout(pad=0)\n",
    "plt.savefig(image_path, format='jpg', bbox_inches='tight', pad_inches=0, dpi=100)\n",
    "plt.close()\n",
    "\n",
    "print(f\"Image sauvegardée à : {image_path}\")"
   ]
  },
  {
   "cell_type": "code",
   "execution_count": 63,
   "id": "066fa017",
   "metadata": {},
   "outputs": [
    {
     "data": {
      "text/plain": [
       "(128, 69)"
      ]
     },
     "execution_count": 63,
     "metadata": {},
     "output_type": "execute_result"
    }
   ],
   "source": [
    "S.shape"
   ]
  },
  {
   "cell_type": "code",
   "execution_count": 69,
   "id": "fbc7d0b8",
   "metadata": {},
   "outputs": [
    {
     "data": {
      "text/plain": [
       "array([3.5242591e-04, 8.3575887e-04, 1.4302258e-03, 5.2133640e-03,\n",
       "       8.6860508e-03, 7.0904200e-03, 1.2727024e-02, 2.8718293e-02,\n",
       "       4.1899458e-02, 1.9749267e-02, 2.1006376e-02, 5.6493830e-02,\n",
       "       1.1896464e-01, 9.9538639e-02, 4.6788711e-02, 4.5376599e-02,\n",
       "       5.6517005e-02, 1.6659324e-01, 1.3107836e-01, 2.6830114e-02,\n",
       "       2.2507388e-02, 1.8080717e-02, 2.0819619e-02, 4.2292789e-02,\n",
       "       4.1725218e-02, 1.2604309e-02, 3.6640116e-03, 1.5036652e-02,\n",
       "       2.2750063e-02, 1.5074500e-02, 8.3217816e-03, 4.1934648e-03,\n",
       "       2.3894832e-03, 1.8414096e-03, 4.4133444e-03, 1.8781128e-03,\n",
       "       1.1645924e-02, 2.1854168e-02, 8.7348670e-02, 5.9406370e-02,\n",
       "       5.5251839e-03, 2.8724896e-03, 6.2890588e-03, 1.2399041e-02,\n",
       "       1.3086980e-02, 9.5005557e-03, 8.0325138e-03, 1.3402860e-02,\n",
       "       7.2397827e-03, 1.0103931e-02, 7.1204021e-03, 6.1435755e-03,\n",
       "       2.5794853e-03, 1.8183287e-03, 2.3092683e-03, 1.1226098e-03,\n",
       "       6.9355592e-04, 8.3777675e-04, 9.1369922e-04, 1.6964790e-04,\n",
       "       1.2464549e-04, 2.9759080e-04, 2.0386418e-04, 3.3808107e-04,\n",
       "       6.2455813e-04, 2.5883371e-03, 3.8333994e-03, 8.1988511e-04,\n",
       "       3.8306782e-05], dtype=float32)"
      ]
     },
     "execution_count": 69,
     "metadata": {},
     "output_type": "execute_result"
    }
   ],
   "source": [
    "S[1]"
   ]
  }
 ],
 "metadata": {
  "kernelspec": {
   "display_name": "speech_emotion_recognition",
   "language": "python",
   "name": "python3"
  },
  "language_info": {
   "codemirror_mode": {
    "name": "ipython",
    "version": 3
   },
   "file_extension": ".py",
   "mimetype": "text/x-python",
   "name": "python",
   "nbconvert_exporter": "python",
   "pygments_lexer": "ipython3",
   "version": "3.12.9"
  }
 },
 "nbformat": 4,
 "nbformat_minor": 5
}
