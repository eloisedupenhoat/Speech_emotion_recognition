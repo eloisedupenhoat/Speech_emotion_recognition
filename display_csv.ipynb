{
 "cells": [
  {
   "cell_type": "code",
   "execution_count": null,
   "id": "a1687b4d",
   "metadata": {},
   "outputs": [],
   "source": [
    "# General libraries\n",
    "import numpy as np\n",
    "import pandas as pd\n",
    "import matplotlib.pyplot as plt\n",
    "\n",
    "# Specific to this notebook\n",
    "# 1.1\n",
    "import os\n",
    "# 1.2\n",
    "import librosa as li\n"
   ]
  },
  {
   "cell_type": "code",
   "execution_count": null,
   "id": "84306191",
   "metadata": {},
   "outputs": [],
   "source": [
    "#import wave"
   ]
  },
  {
   "cell_type": "markdown",
   "id": "a7a381c0",
   "metadata": {},
   "source": [
    "# 1. Preprocessing"
   ]
  },
  {
   "cell_type": "markdown",
   "id": "d251226d",
   "metadata": {},
   "source": [
    "## 1.1 Create df and export it as CSV file"
   ]
  },
  {
   "cell_type": "code",
   "execution_count": 2,
   "id": "ada7d703",
   "metadata": {},
   "outputs": [
    {
     "name": "stdout",
     "output_type": "stream",
     "text": [
      "                   Filename\n",
      "0  03-01-05-02-01-01-04.wav\n",
      "1  03-01-02-01-01-02-04.wav\n"
     ]
    }
   ],
   "source": [
    "# Créer le dataframe initial listant l'ensemble des fichiers audios de la BDD\n",
    "\n",
    "base_dir = 'raw_data'\n",
    "all_files = []\n",
    "\n",
    "for dirpath, dirnames, files in os.walk(base_dir):\n",
    "    for file in files:\n",
    "        if file.endswith('.wav'):\n",
    "            all_files.append(file)\n",
    "\n",
    "df = pd.DataFrame(all_files, columns=['Filename'])\n",
    "print(df.head(2))"
   ]
  },
  {
   "cell_type": "code",
   "execution_count": 3,
   "id": "d43ba8d5",
   "metadata": {},
   "outputs": [],
   "source": [
    "# Compléter le df avec les features inscrites dans le nom des fichiers\n",
    "\n",
    "# 1. Création d'un df_features contenant les features en colonnes\n",
    "df_features = df['Filename'].str\n",
    "df_features = df_features.replace('.wav', '')\n",
    "df_features = df_features.str.split('-', expand=True)\n",
    "\n",
    "# 2. Ajout des titres de colonnes\n",
    "df_features.columns = list(['Modality','Vocal_channel','Emotion','Intensity','Statement','Repetition','Actor'])"
   ]
  },
  {
   "cell_type": "code",
   "execution_count": 4,
   "id": "0ea6a803",
   "metadata": {},
   "outputs": [],
   "source": [
    "# 3. Conversion des valeurs (str) en nb (int)\n",
    "df_features = df_features[df_features.columns[1:]].astype(int)"
   ]
  },
  {
   "cell_type": "code",
   "execution_count": null,
   "id": "53fc614e",
   "metadata": {},
   "outputs": [],
   "source": [
    "# 4. Ajout d'une colonne 'Gender' (1=Woman) (+ une colonne 'Output')\n",
    "df_features['Gender'] = df_features['Actor'].apply(lambda x: 1 if x%2==0 else 0)\n",
    "#df_features['Output'] = df_features.apply(lambda row: [row['Gender'], row['Emotion']], axis=1)"
   ]
  },
  {
   "cell_type": "code",
   "execution_count": 6,
   "id": "4fd11e27",
   "metadata": {},
   "outputs": [],
   "source": [
    "# 5. Concaténation de df et df_features\n",
    "df = pd.concat([df, df_features], axis=1)"
   ]
  },
  {
   "cell_type": "code",
   "execution_count": 7,
   "id": "c2896f78",
   "metadata": {},
   "outputs": [
    {
     "data": {
      "text/html": [
       "<div>\n",
       "<style scoped>\n",
       "    .dataframe tbody tr th:only-of-type {\n",
       "        vertical-align: middle;\n",
       "    }\n",
       "\n",
       "    .dataframe tbody tr th {\n",
       "        vertical-align: top;\n",
       "    }\n",
       "\n",
       "    .dataframe thead th {\n",
       "        text-align: right;\n",
       "    }\n",
       "</style>\n",
       "<table border=\"1\" class=\"dataframe\">\n",
       "  <thead>\n",
       "    <tr style=\"text-align: right;\">\n",
       "      <th></th>\n",
       "      <th>Filename</th>\n",
       "      <th>Vocal_channel</th>\n",
       "      <th>Emotion</th>\n",
       "      <th>Intensity</th>\n",
       "      <th>Statement</th>\n",
       "      <th>Repetition</th>\n",
       "      <th>Actor</th>\n",
       "      <th>Gender</th>\n",
       "      <th>Output</th>\n",
       "    </tr>\n",
       "  </thead>\n",
       "  <tbody>\n",
       "    <tr>\n",
       "      <th>0</th>\n",
       "      <td>03-01-05-02-01-01-04.wav</td>\n",
       "      <td>1</td>\n",
       "      <td>5</td>\n",
       "      <td>2</td>\n",
       "      <td>1</td>\n",
       "      <td>1</td>\n",
       "      <td>4</td>\n",
       "      <td>1</td>\n",
       "      <td>[1, 5]</td>\n",
       "    </tr>\n",
       "    <tr>\n",
       "      <th>1</th>\n",
       "      <td>03-01-02-01-01-02-04.wav</td>\n",
       "      <td>1</td>\n",
       "      <td>2</td>\n",
       "      <td>1</td>\n",
       "      <td>1</td>\n",
       "      <td>2</td>\n",
       "      <td>4</td>\n",
       "      <td>1</td>\n",
       "      <td>[1, 2]</td>\n",
       "    </tr>\n",
       "    <tr>\n",
       "      <th>2</th>\n",
       "      <td>03-01-08-01-01-01-04.wav</td>\n",
       "      <td>1</td>\n",
       "      <td>8</td>\n",
       "      <td>1</td>\n",
       "      <td>1</td>\n",
       "      <td>1</td>\n",
       "      <td>4</td>\n",
       "      <td>1</td>\n",
       "      <td>[1, 8]</td>\n",
       "    </tr>\n",
       "  </tbody>\n",
       "</table>\n",
       "</div>"
      ],
      "text/plain": [
       "                   Filename  Vocal_channel  Emotion  Intensity  Statement  \\\n",
       "0  03-01-05-02-01-01-04.wav              1        5          2          1   \n",
       "1  03-01-02-01-01-02-04.wav              1        2          1          1   \n",
       "2  03-01-08-01-01-01-04.wav              1        8          1          1   \n",
       "\n",
       "   Repetition  Actor  Gender  Output  \n",
       "0           1      4       1  [1, 5]  \n",
       "1           2      4       1  [1, 2]  \n",
       "2           1      4       1  [1, 8]  "
      ]
     },
     "execution_count": 7,
     "metadata": {},
     "output_type": "execute_result"
    }
   ],
   "source": [
    "df.head(3)"
   ]
  },
  {
   "cell_type": "code",
   "execution_count": 8,
   "id": "07e475b5",
   "metadata": {},
   "outputs": [],
   "source": [
    "# Export as csv\n",
    "df.to_csv('all_files.csv', index=False)"
   ]
  },
  {
   "cell_type": "markdown",
   "id": "fd637785",
   "metadata": {},
   "source": [
    "## 1.2 Convert .wav in image via spectogram"
   ]
  },
  {
   "cell_type": "code",
   "execution_count": null,
   "id": "f17e0be3",
   "metadata": {},
   "outputs": [],
   "source": [
    "# import libraries\n"
   ]
  },
  {
   "cell_type": "markdown",
   "id": "ab3e19ab",
   "metadata": {},
   "source": [
    "# Suite"
   ]
  },
  {
   "cell_type": "code",
   "execution_count": null,
   "id": "8605c4be",
   "metadata": {},
   "outputs": [],
   "source": [
    "with wave.open('raw_data/03-01-01-01-01-01-01.wav', 'rb') as wav_file:\n",
    "    print(\"Nb channels:\", wav_file.getnchannels())\n",
    "    print(\"Sampling frequency:\", wav_file.getframerate())\n",
    "    print(\"Nb audio frames :\", wav_file.getnframes())"
   ]
  }
 ],
 "metadata": {
  "kernelspec": {
   "display_name": "speech_emotion_recognition",
   "language": "python",
   "name": "python3"
  },
  "language_info": {
   "codemirror_mode": {
    "name": "ipython",
    "version": 3
   },
   "file_extension": ".py",
   "mimetype": "text/x-python",
   "name": "python",
   "nbconvert_exporter": "python",
   "pygments_lexer": "ipython3",
   "version": "3.12.9"
  }
 },
 "nbformat": 4,
 "nbformat_minor": 5
}
