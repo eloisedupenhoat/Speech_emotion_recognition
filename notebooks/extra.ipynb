{
 "cells": [
  {
   "cell_type": "code",
   "execution_count": null,
   "id": "5b4ac3a5",
   "metadata": {},
   "outputs": [],
   "source": [
    "# reshape the spectogram so it can be inputed to the CNN\n",
    "# this is the matrix that represents an image and that will be inputed to the CNN\n",
    "input = S_dB\n",
    "input = np.expand_dims(S_dB, axis=(0, 1))\n",
    "# shape: (batch_size, channels, height, width)\n",
    "# height = rows = frequency\n",
    "# width = columns = time\n",
    "# channels = 1 color channel = greyscale"
   ]
  },
  {
   "cell_type": "code",
   "execution_count": null,
   "id": "92b4e47f",
   "metadata": {},
   "outputs": [],
   "source": [
    "# display spectogram\n",
    "plt.figure(figsize=(6, 4))\n",
    "li.display.specshow(S_dB, sr=sr, hop_length=512, x_axis='time', y_axis='mel')"
   ]
  },
  {
   "cell_type": "code",
   "execution_count": null,
   "id": "6d440e74",
   "metadata": {},
   "outputs": [],
   "source": []
  }
 ],
 "metadata": {
  "language_info": {
   "name": "python"
  }
 },
 "nbformat": 4,
 "nbformat_minor": 5
}
